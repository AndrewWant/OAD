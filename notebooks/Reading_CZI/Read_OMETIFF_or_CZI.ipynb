{
 "cells": [
  {
   "cell_type": "code",
   "execution_count": 1,
   "metadata": {},
   "outputs": [],
   "source": [
    "import os\n",
    "import sys\n",
    "sys.path.append(r'modules')\n",
    "import imgfileutils as imf\n",
    "from apeer_ometiff_library import io, processing, omexmlClass\n",
    "import numpy as np"
   ]
  },
  {
   "cell_type": "code",
   "execution_count": 2,
   "metadata": {},
   "outputs": [
    {
     "name": "stdout",
     "output_type": "stream",
     "text": [
      "Image Type:  ometiff\n",
      "Getting OME-TIFF Metadata ...\n"
     ]
    }
   ],
   "source": [
    "filename = r'T=5_Z=3_CH=2_CZT_All_CH_per_Slice.czi'\n",
    "filename = r'3CH_Z-Stack_RN-DAPI.ome.tiff'\n",
    "\n",
    "if filename.lower().endswith('.ome.tiff') or filename.lower().endswith('.ome.tif'):\n",
    "    \n",
    "    # Return value is an array of order (T, Z, C, X, Y)\n",
    "    (array, omexml) = io.read_ometiff(filename)\n",
    "    metadata = imf.get_metadata(filename, series=0)\n",
    "    \n",
    "if filename.lower().endswith('.czi'):\n",
    "    \n",
    "    # get the array and the metadata\n",
    "    array, metadata = imf.get_array_czi(filename, replacezero=False)\n",
    "    print(metadata['Shape'])\n",
    "    print(metadata['Axes'])\n",
    "    print(array.shape)"
   ]
  },
  {
   "cell_type": "code",
   "execution_count": 3,
   "metadata": {},
   "outputs": [
    {
     "name": "stdout",
     "output_type": "stream",
     "text": [
      "AcqDate : 2002-05-14T16:31:48\n",
      "Axes : None\n",
      "Channels : ['BlueGFP']\n",
      "DetectorID : Detector:1\n",
      "DetectorModel : None\n",
      "DetectorName : []\n",
      "DimOrder BF : XYCZT\n",
      "DimOrder CZI : None\n",
      "Directory : \n",
      "Extension : ome.tiff\n",
      "Filename : 3CH_Z-Stack_RN-DAPI.ome.tiff\n",
      "ImageIDs : [0]\n",
      "ImageType : ometiff\n",
      "InstrumentID : Instrument:0\n",
      "isRGB : None\n",
      "Name : Image1 #1\n",
      "ObjID : Objective:1\n",
      "ObjImmersion : None\n",
      "ObjMag : 63.0\n",
      "ObjNA : None\n",
      "ObjName : None\n",
      "Shape : None\n",
      "SizeC : 1\n",
      "SizeT : 1\n",
      "SizeX : 425\n",
      "SizeY : 425\n",
      "SizeZ : 22\n",
      "TotalSeries : 1\n",
      "XScale : 0.106\n",
      "XScaleUnit : µm\n",
      "YScale : 0.106\n",
      "YScaleUnit : µm\n",
      "ZScale : 0.3\n",
      "ZScaleUnit : µm\n"
     ]
    }
   ],
   "source": [
    "# show all the metadata\n",
    "show_sorted = True\n",
    "\n",
    "if show_sorted:\n",
    "    # sort the keys and show them\n",
    "    sortedkeys_metadata = sorted(metadata, key=str.lower)\n",
    "    for i in sortedkeys_metadata:\n",
    "        print(i, ':', metadata[i])\n",
    "\n",
    "if not show_sorted:\n",
    "    # just show the key unsorted\n",
    "    for k, v in metadata.items():\n",
    "        print(k, ':', v)"
   ]
  },
  {
   "cell_type": "code",
   "execution_count": 4,
   "metadata": {},
   "outputs": [
    {
     "data": {
      "application/vnd.jupyter.widget-view+json": {
       "model_id": "70cb1266ad434a908219cf169053e09e",
       "version_major": 2,
       "version_minor": 0
      },
      "text/plain": [
       "Output()"
      ]
     },
     "metadata": {},
     "output_type": "display_data"
    },
    {
     "data": {
      "application/vnd.jupyter.widget-view+json": {
       "model_id": "6955c10e92a142ce967eb83e315ef169",
       "version_major": 2,
       "version_minor": 0
      },
      "text/plain": [
       "VBox(children=(IntSlider(value=1, continuous_update=False, description='Time:', disabled=True, max=1, min=1), …"
      ]
     },
     "metadata": {},
     "output_type": "display_data"
    }
   ],
   "source": [
    "# show a single plane with interactive sliders\n",
    "if metadata['Extension'] == 'ome.tiff':\n",
    "    ui, out = imf.create_ipyviewer_ome_tiff(array, metadata)\n",
    "\n",
    "if metadata['Extension'] == 'czi':\n",
    "    ui, out = imf.create_ipyviewer_czi(array, metadata)\n",
    "\n",
    "display(ui, out)"
   ]
  },
  {
   "cell_type": "code",
   "execution_count": null,
   "metadata": {},
   "outputs": [],
   "source": []
  }
 ],
 "metadata": {
  "file_extension": ".py",
  "kernelspec": {
   "display_name": "Python 3",
   "language": "python",
   "name": "python3"
  },
  "language_info": {
   "codemirror_mode": {
    "name": "ipython",
    "version": 3
   },
   "file_extension": ".py",
   "mimetype": "text/x-python",
   "name": "python",
   "nbconvert_exporter": "python",
   "pygments_lexer": "ipython3",
   "version": "3.7.3"
  },
  "mimetype": "text/x-python",
  "name": "python",
  "npconvert_exporter": "python",
  "pygments_lexer": "ipython3",
  "version": 3
 },
 "nbformat": 4,
 "nbformat_minor": 2
}

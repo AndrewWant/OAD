{
 "cells": [
  {
   "cell_type": "code",
   "execution_count": 1,
   "metadata": {
    "slideshow": {
     "slide_type": "slide"
    }
   },
   "outputs": [],
   "source": [
    "#################################################################\n",
    "# File       : MIAP_Read_and_Display_Images.ipynb\n",
    "# Version    : 0.1\n",
    "# Author     : czsrh\n",
    "# Date       : 02.11.2019\n",
    "# Insitution : Carl Zeiss Microscopy GmbH\n",
    "#\n",
    "# Disclaimer: Just for testing - Use at your own risk.\n",
    "# Feedback or Improvements are welcome.\n",
    "##################################################################"
   ]
  },
  {
   "cell_type": "markdown",
   "metadata": {
    "slideshow": {
     "slide_type": "slide"
    }
   },
   "source": [
    "Here we do all the required imports."
   ]
  },
  {
   "cell_type": "code",
   "execution_count": 2,
   "metadata": {
    "slideshow": {
     "slide_type": "slide"
    }
   },
   "outputs": [],
   "source": [
    "import warnings\n",
    "warnings.filterwarnings('ignore')\n",
    "warnings.simplefilter('ignore')\n",
    "\n",
    "from apeer_ometiff_library import io, processing, omexmlClass\n",
    "import czifile as zis\n",
    "import xmltodict\n",
    "import os\n",
    "import numpy as np\n",
    "import ipywidgets as widgets\n",
    "import napari\n",
    "import imgfileutils as imf\n",
    "import xml.etree.ElementTree as ET"
   ]
  },
  {
   "cell_type": "code",
   "execution_count": 3,
   "metadata": {
    "slideshow": {
     "slide_type": "slide"
    }
   },
   "outputs": [],
   "source": [
    "# define your testfiles here\n",
    "\n",
    "imgdict = {\n",
    "    1:r'C:\\Users\\m1srh\\Documents\\Testdata_Zeiss\\Castor\\Z-Stack_DCV\\CellDivision_T=10_Z=15_CH=2_DCV_small.czi',\n",
    "    2:r'C:\\Users\\m1srh\\Documents\\Testdata_Zeiss\\Castor\\Z-Stack_DCV\\CellDivision_T=10_Z=15_CH=2_DCV_small.ome.tiff',\n",
    "    3:r'C:\\Users\\m1srh\\Documents\\Testdata_Zeiss\\Castor\\Z-Stack_DCV\\CellDivision_T=10_Z=15_CH=2_DCV_small_Fiji.ome.tiff',\n",
    "    4:r'C:\\Users\\m1srh\\Documents\\Testdata_Zeiss\\Castor\\Z-Stack_DCV\\CellDivision_T=15_Z=20_CH=2_DCV.czi',\n",
    "    5:r'C:\\Users\\m1srh\\Documents\\Testdata_Zeiss\\Castor\\Z-Stack_DCV\\NeuroSpheres_DCV_A635_A488_A405.czi',\n",
    "    6:r'C:\\Users\\m1srh\\Documents\\Testdata_Zeiss\\Castor\\Z-Stack_DCV\\CZI_DimorderTZC.czi'\n",
    "}\n",
    "\n",
    "filename = imgdict[1]"
   ]
  },
  {
   "cell_type": "code",
   "execution_count": 4,
   "metadata": {
    "slideshow": {
     "slide_type": "slide"
    }
   },
   "outputs": [],
   "source": [
    "# get CZI object and read array\n",
    "czi = zis.CziFile(filename)\n",
    "mdczi = czi.metadata()\n",
    "czi.close()\n",
    "\n",
    "# parse the XML into a dictionary\n",
    "metadatadict_czi = xmltodict.parse(mdczi)"
   ]
  },
  {
   "cell_type": "code",
   "execution_count": 5,
   "metadata": {
    "slideshow": {
     "slide_type": "slide"
    }
   },
   "outputs": [
    {
     "name": "stdout",
     "output_type": "stream",
     "text": [
      "Write special CZI XML metainformation for:  C:\\Users\\m1srh\\Documents\\Testdata_Zeiss\\Castor\\Z-Stack_DCV\\CellDivision_T=10_Z=15_CH=2_DCV_small_CZI_MetaData.xml\n"
     ]
    }
   ],
   "source": [
    "# change file name\n",
    "xmlfile = filename.replace('.czi', '_CZI_MetaData.xml')\n",
    "\n",
    "# get the element tree\n",
    "tree = ET.ElementTree(ET.fromstring(mdczi))\n",
    "\n",
    "# write xml to disk\n",
    "tree.write(xmlfile, encoding='utf-8', method='xml')\n",
    "\n",
    "print('Write special CZI XML metainformation for: ', xmlfile)"
   ]
  },
  {
   "cell_type": "code",
   "execution_count": 6,
   "metadata": {
    "slideshow": {
     "slide_type": "slide"
    }
   },
   "outputs": [
    {
     "name": "stdout",
     "output_type": "stream",
     "text": [
      "C:\\Users\\m1srh\\Documents\\Testdata_Zeiss\\Castor\\Z-Stack_DCV\\CellDivision_T=10_Z=15_CH=2_DCV_small_CZI_MetaData.xml\n"
     ]
    }
   ],
   "source": [
    "# or much shorter\n",
    "xmlczi = imf.writexml_czi(filename)\n",
    "print(xmlczi)"
   ]
  },
  {
   "cell_type": "code",
   "execution_count": 7,
   "metadata": {
    "slideshow": {
     "slide_type": "slide"
    }
   },
   "outputs": [],
   "source": [
    "# create dictionary for the interesting CZI metadata\n",
    "czimd = {}\n",
    "\n",
    "czimd['Experiment'] = metadatadict_czi['ImageDocument']['Metadata']['Experiment']\n",
    "czimd['HardwareSetting'] = metadatadict_czi['ImageDocument']['Metadata']['HardwareSetting']\n",
    "czimd['CustomAttributes'] = metadatadict_czi['ImageDocument']['Metadata']['CustomAttributes']\n",
    "czimd['Information'] = metadatadict_czi['ImageDocument']['Metadata']['Information']\n",
    "czimd['PixelType'] = czimd['Information']['Image']['PixelType']"
   ]
  },
  {
   "cell_type": "code",
   "execution_count": 8,
   "metadata": {
    "slideshow": {
     "slide_type": "slide"
    }
   },
   "outputs": [
    {
     "name": "stdout",
     "output_type": "stream",
     "text": [
      "SizeX  :  256\n",
      "SizeY  :  256\n",
      "SizeB  :  1\n",
      "OriginalCompressionMethod  :  Uncompressed\n",
      "OriginalEncodingQuality  :  100\n",
      "AcquisitionDateAndTime  :  2016-02-12T09:41:02.4915604Z\n",
      "SizeC  :  2\n",
      "SizeZ  :  15\n",
      "SizeT  :  10\n",
      "ComponentBitCount  :  14\n",
      "PixelType  :  Gray16\n",
      "Dimensions  :  OrderedDict([('Channels', OrderedDict([('Channel', [OrderedDict([('@Id', 'Channel:0'), ('@Name', 'LED555'), ('ExcitationWavelength', '553'), ('EmissionWavelength', '568'), ('DyeId', 'McNamara-Boswell-0046'), ('DyeDatabaseId', '66071726-cbd4-4c41-b371-0a6eee4ae9c5'), ('Color', '#FFFF7E00'), ('Fluor', 'Alexa Fluor 555'), ('ExposureTime', '100000000'), ('IlluminationType', 'Epifluorescence'), ('ContrastMethod', 'Fluorescence'), ('PixelType', 'Gray16'), ('ComponentBitCount', '14'), ('AcquisitionMode', 'WideField'), ('IlluminationWavelength', OrderedDict([('SinglePeak', '567'), ('Ranges', '540-570')])), ('DetectionWavelength', None), ('DetectorSettings', OrderedDict([('Binning', '1,1'), ('Detector', OrderedDict([('@Id', 'Detector:Axiocam 506')]))])), ('LightSourcesSettings', OrderedDict([('LightSourceSettings', OrderedDict([('Intensity', '50.00 %'), ('LightSource', OrderedDict([('@Id', 'LightSource:1')]))]))])), ('FilterSetRef', OrderedDict([('@Id', 'FilterSet:1')]))]), OrderedDict([('@Id', 'Channel:1'), ('@Name', 'LED470'), ('ExcitationWavelength', '493'), ('EmissionWavelength', '517'), ('DyeId', 'McNamara-Boswell-0038'), ('DyeDatabaseId', '66071726-cbd4-4c41-b371-0a6eee4ae9c5'), ('Color', '#FF00FF33'), ('Fluor', 'Alexa Fluor 488'), ('ExposureTime', '200000000'), ('IlluminationType', 'Epifluorescence'), ('ContrastMethod', 'Fluorescence'), ('PixelType', 'Gray16'), ('ComponentBitCount', '14'), ('AcquisitionMode', 'WideField'), ('IlluminationWavelength', OrderedDict([('SinglePeak', '469'), ('Ranges', '450-488')])), ('DetectionWavelength', None), ('DetectorSettings', OrderedDict([('Binning', '1,1'), ('Detector', OrderedDict([('@Id', 'Detector:Axiocam 506')]))])), ('LightSourcesSettings', OrderedDict([('LightSourceSettings', OrderedDict([('Intensity', '50.00 %'), ('LightSource', OrderedDict([('@Id', 'LightSource:2')]))]))])), ('FilterSetRef', OrderedDict([('@Id', 'FilterSet:2')]))])])])), ('Tracks', OrderedDict([('Track', [OrderedDict([('@Id', 'Track:2'), ('ChannelRefs', OrderedDict([('ChannelRef', OrderedDict([('@Id', 'Channel:0')]))]))]), OrderedDict([('@Id', 'Track:3'), ('ChannelRefs', OrderedDict([('ChannelRef', OrderedDict([('@Id', 'Channel:1')]))]))])])])), ('T', OrderedDict([('StartTime', '2016-02-12T09:41:02.4915604Z'), ('Positions', OrderedDict([('List', OrderedDict([('Offsets', '0 60.075 120.151 180.226 240.302 300.377 360.453 420.528 480.603 540.679')]))]))])), ('Z', OrderedDict([('XYZHandedness', 'Undefined'), ('ZAxisDirection', 'Undefined'), ('StartPosition', '-3.52'), ('Positions', OrderedDict([('List', OrderedDict([('Offsets', '0 0.32 0.64 0.96 1.28 1.6 1.92 2.24 2.56 2.88 3.2 3.52 3.84 4.16 4.48')]))]))]))])\n",
      "ObjectiveSettings  :  OrderedDict([('RefractiveIndex', '1.33'), ('Medium', 'Water'), ('CorrectionControllerMode', 'Glass Thin'), ('CorrectionControllerBottomThickness', '175'), ('ObjectiveRef', OrderedDict([('@Id', 'Objective:1')]))])\n",
      "Specimen  :  OrderedDict([('CoverglassThickness', '175'), ('CoverglassRefractiveIndex', '1.52'), ('CoverglassOffset', '995'), ('CoverglassMaterial', 'Glass')])\n",
      "MicroscopeRef  :  OrderedDict([('@Id', 'Microscope:1')])\n",
      "TubeLenses  :  OrderedDict([('TubeLensRef', OrderedDict([('@Id', 'TubeLens:1')]))])\n",
      "SpatialRelations  :  OrderedDict([('PixelToStageTransform', OrderedDict([('RotateFlipScaleTranslateImplicitScale', OrderedDict([('Rotate', '0'), ('Flip', OrderedDict([('@X', 'false'), ('@Y', 'false')])), ('Translate', OrderedDict([('@X', '16971.264400244756'), ('@Y', '18619.585960423425')]))]))]))])\n"
     ]
    }
   ],
   "source": [
    "# show some metadata\n",
    "for key, value in czimd['Information']['Image'].items():\n",
    "    # print all key-value pairs for the dictionary\n",
    "    print(key, ' : ', value)\n"
   ]
  },
  {
   "cell_type": "markdown",
   "metadata": {
    "slideshow": {
     "slide_type": "slide"
    }
   },
   "source": [
    "### Remark\n",
    "\n",
    "As one can clearly see there are a lot of metadata not all of them are needed for every workflow."
   ]
  },
  {
   "cell_type": "code",
   "execution_count": 9,
   "metadata": {
    "slideshow": {
     "slide_type": "slide"
    }
   },
   "outputs": [],
   "source": [
    "# read metadata and array differently for OME-TIFF or CZI data\n",
    "if filename.lower().endswith('.ome.tiff') or filename.lower().endswith('.ome.tif'):\n",
    "    \n",
    "    # Return value is an array of order (T, Z, C, X, Y)\n",
    "    (array, omexml) = io.read_ometiff(filename)\n",
    "    metadata = imf.get_metadata(filename, series=0)\n",
    "    \n",
    "if filename.lower().endswith('.czi'):\n",
    "\n",
    "    # get the array and the metadata\n",
    "    array, metadata = imf.get_array_czi(filename)"
   ]
  },
  {
   "cell_type": "code",
   "execution_count": 10,
   "metadata": {
    "slideshow": {
     "slide_type": "slide"
    }
   },
   "outputs": [
    {
     "name": "stdout",
     "output_type": "stream",
     "text": [
      "Array Shape:  (1, 10, 2, 15, 256, 256)\n",
      "Dimension Order (BioFormats) :  None\n",
      "CZI Array Shape :  (1, 10, 2, 15, 256, 256, 1)\n",
      "CZI Dimension Entry :  BTCZYX0\n"
     ]
    }
   ],
   "source": [
    "# outout the shape of the returned numpy array\n",
    "\n",
    "# shape of numpy array\n",
    "print('Array Shape: ', array.shape)\n",
    "\n",
    "# dimension order from metadata\n",
    "print('Dimension Order (BioFormats) : ', metadata['DimOrder BF Array'])\n",
    "\n",
    "# shape and dimension entry from CZI file as returned by czifile.py\n",
    "print('CZI Array Shape : ', metadata['Shape'])\n",
    "print('CZI Dimension Entry : ', metadata['Axes'])"
   ]
  },
  {
   "cell_type": "code",
   "execution_count": 11,
   "metadata": {
    "slideshow": {
     "slide_type": "slide"
    }
   },
   "outputs": [
    {
     "name": "stdout",
     "output_type": "stream",
     "text": [
      "SizeT :  10\n",
      "SizeZ :  15\n",
      "SizeC :  2\n",
      "SizeX :  256\n",
      "SizeY :  256\n",
      "XScale:  0.091\n",
      "YScale:  0.091\n",
      "ZScale:  0.32\n"
     ]
    }
   ],
   "source": [
    "# show dimensions and scaling\n",
    "print('SizeT : ', metadata['SizeT'])\n",
    "print('SizeZ : ', metadata['SizeZ'])\n",
    "print('SizeC : ', metadata['SizeC'])\n",
    "print('SizeX : ', metadata['SizeX'])\n",
    "print('SizeY : ', metadata['SizeY'])\n",
    "print('XScale: ', metadata['XScale'])\n",
    "print('YScale: ', metadata['YScale'])\n",
    "print('ZScale: ', metadata['ZScale'])"
   ]
  },
  {
   "cell_type": "code",
   "execution_count": 12,
   "metadata": {
    "slideshow": {
     "slide_type": "slide"
    }
   },
   "outputs": [
    {
     "name": "stdout",
     "output_type": "stream",
     "text": [
      "Directory  :  C:\\Users\\m1srh\\Documents\\Testdata_Zeiss\\Castor\\Z-Stack_DCV\n",
      "Filename  :  CellDivision_T=10_Z=15_CH=2_DCV_small.czi\n",
      "Extension  :  czi\n",
      "ImageType  :  czi\n",
      "Name  :  None\n",
      "AcqDate  :  2016-02-12T09:41:02.4915604Z\n",
      "TotalSeries  :  None\n",
      "SizeX  :  256\n",
      "SizeY  :  256\n",
      "SizeZ  :  15\n",
      "SizeC  :  2\n",
      "SizeT  :  10\n",
      "Sizes BF  :  None\n",
      "DimOrder BF  :  None\n",
      "DimOrder BF Array  :  None\n",
      "DimOrder CZI  :  {'B': 0, 'S': -1, 'T': 1, 'C': 2, 'Z': 3, 'Y': 4, 'X': 5, '0': 6}\n",
      "Axes  :  BTCZYX0\n",
      "Shape  :  (1, 10, 2, 15, 256, 256, 1)\n",
      "isRGB  :  None\n",
      "ObjNA  :  1.2\n",
      "ObjMag  :  50.0\n",
      "ObjID  :  Objective:1\n",
      "ObjName  :  Plan-Apochromat 50x/1.2\n",
      "ObjImmersion  :  Water\n",
      "XScale  :  0.091\n",
      "YScale  :  0.091\n",
      "ZScale  :  0.32\n",
      "XScaleUnit  :  µm\n",
      "YScaleUnit  :  µm\n",
      "ZScaleUnit  :  µm\n",
      "DetectorModel  :  Axiocam 506\n",
      "DetectorName  :  Axiocam506m\n",
      "DetectorID  :  Detector:Axiocam 506\n",
      "InstrumentID  :  None\n",
      "Channels  :  ['AF555', 'AF488']\n",
      "ImageIDs  :  []\n",
      "PixelType  :  Gray16\n",
      "SizeM  :  1\n",
      "SizeB  :  1\n",
      "SizeS  :  1\n",
      "SW-Name  :  ZEN 3.1 (blue edition)\n",
      "SW-Version  :  3.1.0.0000\n",
      "TubelensMag  :  1.0\n",
      "ObjNominalMag  :  50.0\n"
     ]
    }
   ],
   "source": [
    "# show all the metadata\n",
    "for key, value in metadata.items():\n",
    "    # print all key-value pairs for the dictionary\n",
    "    print(key, ' : ', value)"
   ]
  },
  {
   "cell_type": "code",
   "execution_count": 13,
   "metadata": {
    "slideshow": {
     "slide_type": "slide"
    }
   },
   "outputs": [
    {
     "name": "stdout",
     "output_type": "stream",
     "text": [
      "0 38276\n"
     ]
    },
    {
     "data": {
      "application/vnd.jupyter.widget-view+json": {
       "model_id": "8dfca041e8b74aa18e505449d95e3988",
       "version_major": 2,
       "version_minor": 0
      },
      "text/plain": [
       "Output()"
      ]
     },
     "metadata": {},
     "output_type": "display_data"
    },
    {
     "data": {
      "application/vnd.jupyter.widget-view+json": {
       "model_id": "15ee5b530d194541a500d07189702a77",
       "version_major": 2,
       "version_minor": 0
      },
      "text/plain": [
       "VBox(children=(IntSlider(value=1, continuous_update=False, description='Blocks:', disabled=True, max=1, min=1)…"
      ]
     },
     "metadata": {},
     "output_type": "display_data"
    }
   ],
   "source": [
    "# display data using ipy widgets\n",
    "if metadata['Extension'] == 'ome.tiff':\n",
    "    ui, out = imf.create_ipyviewer_ome_tiff(array, metadata)\n",
    "if metadata['Extension'] == 'czi':\n",
    "    ui, out = imf.create_ipyviewer_czi(array, metadata)\n",
    "\n",
    "display(ui, out)"
   ]
  },
  {
   "cell_type": "code",
   "execution_count": null,
   "metadata": {
    "slideshow": {
     "slide_type": "slide"
    }
   },
   "outputs": [],
   "source": [
    "import time\n",
    "\n",
    "# switch to qt5 backend for napari viewer and wait a few seconds\n",
    "%gui qt5\n",
    "time.sleep(5)"
   ]
  },
  {
   "cell_type": "code",
   "execution_count": null,
   "metadata": {
    "slideshow": {
     "slide_type": "slide"
    }
   },
   "outputs": [],
   "source": [
    "# try to configure napari automatiaclly based on metadata\n",
    "imf.show_napari(array, metadata)"
   ]
  },
  {
   "cell_type": "code",
   "execution_count": null,
   "metadata": {
    "slideshow": {
     "slide_type": "slide"
    }
   },
   "outputs": [],
   "source": [
    "# configure napari viewer manually - check array shape and dimensions order carefully \n",
    "    \n",
    "# get the scalefactors\n",
    "scalefactors = imf.get_scalefactor(metadata)\n",
    "print(scalefactors)\n",
    "\n",
    "array = np.squeeze(array, axis=(0, 1))\n",
    "\n",
    "viewer = napari.Viewer()\n",
    "# add every channel as a single layer\n",
    "for ch in range(metadata['SizeC']):\n",
    "    chname = metadata['Channels'][ch]\n",
    "    viewer.add_image(array[ch, :, :, :], name=chname, scale=(1, scalefactors['zx'], 1, 1))"
   ]
  },
  {
   "cell_type": "markdown",
   "metadata": {},
   "source": [
    "jupyter nbconvert MIAP_Read_and_Display_Images.ipynb --to slides --post serve"
   ]
  }
 ],
 "metadata": {
  "celltoolbar": "Slideshow",
  "file_extension": ".py",
  "kernelspec": {
   "display_name": "Python 3",
   "language": "python",
   "name": "python3"
  },
  "language_info": {
   "codemirror_mode": {
    "name": "ipython",
    "version": 3
   },
   "file_extension": ".py",
   "mimetype": "text/x-python",
   "name": "python",
   "nbconvert_exporter": "python",
   "pygments_lexer": "ipython3",
   "version": "3.7.4"
  },
  "mimetype": "text/x-python",
  "name": "python",
  "npconvert_exporter": "python",
  "pygments_lexer": "ipython3",
  "version": 3
 },
 "nbformat": 4,
 "nbformat_minor": 2
}

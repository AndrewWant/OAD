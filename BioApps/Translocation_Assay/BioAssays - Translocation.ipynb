{
 "cells": [
  {
   "cell_type": "markdown",
   "metadata": {
    "slideshow": {
     "slide_type": "slide"
    }
   },
   "source": [
    "This IPython Notebook shows how to visualize the data created by the ZEN Image Analysis using the Zone Of Influence (ZOI) segmentation.\n",
    "Typical Applications for ZOI are in cell biology, drug discovery, in-vitro assays, endpoint assays, e.g.:\n",
    "\n",
    "* Cytoplasm-Nucleus Translocation\n",
    "* Protein Localization\n",
    "* Count sub-objects inside and outside of the primary object (e.g. vesicles, PML bodies,…)\n",
    "\n",
    "<img src=\"Tutorial\\ZOI_Applications.png\" />\n",
    "\n",
    "**For further details please see:**\n",
    "    \n",
    "[ZOI Tutorial.pdf]('Tutorial\\ZOI - Tutorial.pdf')"
   ]
  },
  {
   "cell_type": "markdown",
   "metadata": {
    "slideshow": {
     "slide_type": "slide"
    }
   },
   "source": [
    "**Application Example: Translocation Assay**\n",
    "\n",
    "<img src=\"Tutorial\\ZOI_Translocation.png\" />"
   ]
  },
  {
   "cell_type": "markdown",
   "metadata": {
    "slideshow": {
     "slide_type": "slide"
    }
   },
   "source": [
    "**Human U2OS cells cytoplasm–nucleus translocation**\n",
    "\n",
    "* 96-well plate, human osteosarcoma cells (U2OS), nuclei stained with DRAQ\n",
    "* Cytoplasm to nucleus translocation of the Forkhead (FKHR-EGFP) fusion protein\n",
    "* In proliferating cells, FKHR is localized in the cytoplasm (constantly moving into the nucleus, but is transported out again by export proteins). \n",
    "* Upon inhibition of nuclear export, FKHR accumulates in the nucleus\n",
    "* Export is inhibited by blocking PI3 kinase / PKB with <span style=\"color:green\"> *Wortmannin*</span> or <span style=\"color:orange\">*LY294002*</span>.\n",
    "\n",
    "\n",
    "<img src=\"Tutorial\\ZOI_U2OS.png\" />\n",
    "\n",
    "\n",
    "Data set [BBBC013v1](https://data.broadinstitute.org/bbbc/BBBC013/) by Ilya Ravkin, available from the Broad Bioimage Benchmark Collection [Ljosa et al., Nature Methods, 2012](http://dx.doi.org/10.1038/nmeth.2083)"
   ]
  },
  {
   "cell_type": "code",
   "execution_count": 1,
   "metadata": {
    "slideshow": {
     "slide_type": "slide"
    }
   },
   "outputs": [],
   "source": [
    "# do the required imports\n",
    "import pandas as pd\n",
    "import numpy as np\n",
    "import sys\n",
    "import matplotlib.pyplot as plt\n",
    "import seaborn as sns\n",
    "import os\n",
    "\n",
    "module_path = os.path.abspath(os.path.join('..'))\n",
    "if module_path not in sys.path:\n",
    "    sys.path.append(module_path)\n",
    "\n",
    "import wellplate_tools_pandas as wpt"
   ]
  },
  {
   "cell_type": "code",
   "execution_count": 2,
   "metadata": {
    "slideshow": {
     "slide_type": "slide"
    }
   },
   "outputs": [
    {
     "data": {
      "text/html": [
       "<div>\n",
       "<style scoped>\n",
       "    .dataframe tbody tr th:only-of-type {\n",
       "        vertical-align: middle;\n",
       "    }\n",
       "\n",
       "    .dataframe tbody tr th {\n",
       "        vertical-align: top;\n",
       "    }\n",
       "\n",
       "    .dataframe thead th {\n",
       "        text-align: right;\n",
       "    }\n",
       "</style>\n",
       "<table border=\"1\" class=\"dataframe\">\n",
       "  <thead>\n",
       "    <tr style=\"text-align: right;\">\n",
       "      <th></th>\n",
       "      <th>ParentID::ID of the parent!!I</th>\n",
       "      <th>ID::ID!!I</th>\n",
       "      <th>ImageSceneContainerName::Image Scene Container Name</th>\n",
       "      <th>ImageSceneRow::Image Scene Row Index!!I</th>\n",
       "      <th>ImageSceneColumn::Image Scene Column Index!!I</th>\n",
       "      <th>Index::Index!!I</th>\n",
       "      <th>Area::Area!!R</th>\n",
       "      <th>IntensityMean_DAPI::Intensity Mean Value of channel 'DAPI'!!R</th>\n",
       "      <th>IntensityMean_EGFP::Intensity Mean Value of channel 'EGFP'!!R</th>\n",
       "      <th>Ring RegionsIntensityMean::Ring Intensity Mean Value of channel 'EGFP'!!R</th>\n",
       "      <th>Ring RegionsArea::Ring Area!!R</th>\n",
       "    </tr>\n",
       "  </thead>\n",
       "  <tbody>\n",
       "    <tr>\n",
       "      <th>0</th>\n",
       "      <td>NaN</td>\n",
       "      <td>NaN</td>\n",
       "      <td>NaN</td>\n",
       "      <td>NaN</td>\n",
       "      <td>NaN</td>\n",
       "      <td>NaN</td>\n",
       "      <td>µm²</td>\n",
       "      <td>Gray</td>\n",
       "      <td>Gray</td>\n",
       "      <td>Gray</td>\n",
       "      <td>µm²</td>\n",
       "    </tr>\n",
       "    <tr>\n",
       "      <th>1</th>\n",
       "      <td>294.0</td>\n",
       "      <td>295.0</td>\n",
       "      <td>A1</td>\n",
       "      <td>1.0</td>\n",
       "      <td>1.0</td>\n",
       "      <td>2.0</td>\n",
       "      <td>1,7</td>\n",
       "      <td>107,38235294118</td>\n",
       "      <td>6,8823529411765</td>\n",
       "      <td>13,844444444444</td>\n",
       "      <td>0,9</td>\n",
       "    </tr>\n",
       "    <tr>\n",
       "      <th>2</th>\n",
       "      <td>296.0</td>\n",
       "      <td>297.0</td>\n",
       "      <td>A1</td>\n",
       "      <td>1.0</td>\n",
       "      <td>1.0</td>\n",
       "      <td>3.0</td>\n",
       "      <td>2,85</td>\n",
       "      <td>147,19649122807</td>\n",
       "      <td>0,61754385964912</td>\n",
       "      <td>2,5342465753425</td>\n",
       "      <td>1,46</td>\n",
       "    </tr>\n",
       "    <tr>\n",
       "      <th>3</th>\n",
       "      <td>298.0</td>\n",
       "      <td>299.0</td>\n",
       "      <td>A1</td>\n",
       "      <td>1.0</td>\n",
       "      <td>1.0</td>\n",
       "      <td>4.0</td>\n",
       "      <td>2,64</td>\n",
       "      <td>133,33712121212</td>\n",
       "      <td>88,05303030303</td>\n",
       "      <td>141,16783216783</td>\n",
       "      <td>1,43</td>\n",
       "    </tr>\n",
       "    <tr>\n",
       "      <th>4</th>\n",
       "      <td>300.0</td>\n",
       "      <td>301.0</td>\n",
       "      <td>A1</td>\n",
       "      <td>1.0</td>\n",
       "      <td>1.0</td>\n",
       "      <td>12.0</td>\n",
       "      <td>1,84</td>\n",
       "      <td>79,288043478261</td>\n",
       "      <td>0</td>\n",
       "      <td>0,02962962962963</td>\n",
       "      <td>1,35</td>\n",
       "    </tr>\n",
       "  </tbody>\n",
       "</table>\n",
       "</div>"
      ],
      "text/plain": [
       "   ParentID::ID of the parent!!I  ID::ID!!I  \\\n",
       "0                            NaN        NaN   \n",
       "1                          294.0      295.0   \n",
       "2                          296.0      297.0   \n",
       "3                          298.0      299.0   \n",
       "4                          300.0      301.0   \n",
       "\n",
       "  ImageSceneContainerName::Image Scene Container Name   \\\n",
       "0                                                NaN     \n",
       "1                                                 A1     \n",
       "2                                                 A1     \n",
       "3                                                 A1     \n",
       "4                                                 A1     \n",
       "\n",
       "   ImageSceneRow::Image Scene Row Index!!I  \\\n",
       "0                                      NaN   \n",
       "1                                      1.0   \n",
       "2                                      1.0   \n",
       "3                                      1.0   \n",
       "4                                      1.0   \n",
       "\n",
       "   ImageSceneColumn::Image Scene Column Index!!I  Index::Index!!I  \\\n",
       "0                                            NaN              NaN   \n",
       "1                                            1.0              2.0   \n",
       "2                                            1.0              3.0   \n",
       "3                                            1.0              4.0   \n",
       "4                                            1.0             12.0   \n",
       "\n",
       "  Area::Area!!R IntensityMean_DAPI::Intensity Mean Value of channel 'DAPI'!!R  \\\n",
       "0           µm²                                               Gray              \n",
       "1           1,7                                    107,38235294118              \n",
       "2          2,85                                    147,19649122807              \n",
       "3          2,64                                    133,33712121212              \n",
       "4          1,84                                    79,288043478261              \n",
       "\n",
       "  IntensityMean_EGFP::Intensity Mean Value of channel 'EGFP'!!R  \\\n",
       "0                                               Gray              \n",
       "1                                    6,8823529411765              \n",
       "2                                   0,61754385964912              \n",
       "3                                     88,05303030303              \n",
       "4                                                  0              \n",
       "\n",
       "  Ring RegionsIntensityMean::Ring Intensity Mean Value of channel 'EGFP'!!R  \\\n",
       "0                                               Gray                          \n",
       "1                                    13,844444444444                          \n",
       "2                                    2,5342465753425                          \n",
       "3                                    141,16783216783                          \n",
       "4                                   0,02962962962963                          \n",
       "\n",
       "  Ring RegionsArea::Ring Area!!R  \n",
       "0                            µm²  \n",
       "1                            0,9  \n",
       "2                           1,46  \n",
       "3                           1,43  \n",
       "4                           1,35  "
      ]
     },
     "execution_count": 2,
     "metadata": {},
     "output_type": "execute_result"
    }
   ],
   "source": [
    "# load the data file created by ZEN Blue ZOI image analysis\n",
    "filename_single = r'Translocation_Region_Primary_Object.csv'\n",
    "zoi_transloc = True\n",
    "\n",
    "# check the used separator\n",
    "sep = wpt.check_separator(filename_single)\n",
    "\n",
    "# read the CSV table containing all the single object data\n",
    "df_single = pd.read_csv(filename_single, sep=sep)\n",
    "\n",
    "# get headers and number of measurement parameters\n",
    "headers = df_single.head(0)\n",
    "\n",
    "# define wellplate type (this has to be done by user)\n",
    "platetype = 96\n",
    "\n",
    "# get numer of rows and columns\n",
    "Nr, Nc = wpt.getrowandcolumn(platetype)\n",
    "\n",
    "df_single[:5]"
   ]
  },
  {
   "cell_type": "code",
   "execution_count": 3,
   "metadata": {
    "slideshow": {
     "slide_type": "slide"
    }
   },
   "outputs": [],
   "source": [
    "# default number of non-measurement parameters, e.g. IDs etc.\n",
    "num_nonmp = 6\n",
    "\n",
    "# list for renaming the parameters - please check your input CSV is the respective columns\n",
    "# (might have different names) exits and if their order is reflected inside the parameterlist\n",
    "\n",
    "if zoi_transloc:\n",
    "    parameterlist = ['ParentID',    # ParentID::ID of the parent!!I\n",
    "                     'ID',          # ID::ID!!I\n",
    "                     'WellID',      # ImageSceneContainerName::Image Scene Container Name \n",
    "                     'RowID',       # ImageSceneRow::Image Scene Row Index!!I\n",
    "                     'ColumnID',    # ImageSceneColumn::Image Scene Column Index!!I\n",
    "                     'Index',       # Index::Index!!I\n",
    "                     'Area',        # Area::Area!!R\n",
    "                     'NucMeanDapi', # IntensityMean_DAPI::Intensity Mean Value of channel 'DAPI'!!R\n",
    "                     'NucMeanGFP',  # IntensityMean_EGFP::Intensity Mean Value of channel 'EGFP'!!R\n",
    "                     'RingMeanGFP', # CopyRingIntensityMean1::Ring Mean Intensity 1!!R\n",
    "                     'RingArea']    # CopyRingArea::Ring Area!!R\n",
    "\n",
    "elif not zoi_transloc:\n",
    "    parameterlist = ['ParentID',    # ParentID::ID of the parent!!I\n",
    "                     'ID',          # ID::ID!!I\n",
    "                     'WellID',      # ImageSceneContainerName::Image Scene Container Name\n",
    "                     'RowID',       # ImageSceneRow::Image Scene Row Index!!I\n",
    "                     'ColumnID',    # ImageSceneColumn::Image Scene Column Index!!I\n",
    "                     'Index']       # Index::Index!!I"
   ]
  },
  {
   "cell_type": "code",
   "execution_count": 4,
   "metadata": {
    "slideshow": {
     "slide_type": "slide"
    }
   },
   "outputs": [],
   "source": [
    "# rename columns\n",
    "df_single = wpt.rename_columns(df_single, parameterlist)\n",
    "\n",
    "# remove rows with units from datafrane\n",
    "df_single = wpt.remove_units(df_single)\n",
    "\n",
    "# convert decimal separators to point \".\"\n",
    "df_single = wpt.convert_dec_sep(df_single, num_nonmp)"
   ]
  },
  {
   "cell_type": "markdown",
   "metadata": {
    "slideshow": {
     "slide_type": "slide"
    }
   },
   "source": [
    "**Human U2OS cells cytoplasm–nucleus translocation**\n",
    "\n",
    "* Calculate the Translocation-Ratio (T) for each cell\n",
    "* Calculate the mean value for each well \n",
    "\n",
    "\n",
    "<img src=\"Tutorial\\ZOI_Ratio_Calculation.png\" />"
   ]
  },
  {
   "cell_type": "code",
   "execution_count": 5,
   "metadata": {
    "slideshow": {
     "slide_type": "slide"
    }
   },
   "outputs": [],
   "source": [
    "if zoi_transloc:\n",
    "\n",
    "    # add another column and calculate the ratio between GFP in nucleus and GFP in Ring for the translocation assay\n",
    "    df_single['Ratio'] =  df_single['NucMeanGFP']/df_single['RingMeanGFP']\n",
    "\n",
    "    # replace infinity values with nan\n",
    "    df_single = df_single.replace([np.inf, -np.inf], np.nan)"
   ]
  },
  {
   "cell_type": "code",
   "execution_count": 6,
   "metadata": {
    "slideshow": {
     "slide_type": "slide"
    }
   },
   "outputs": [
    {
     "name": "stdout",
     "output_type": "stream",
     "text": [
      "Number of Object Parameters:  6\n"
     ]
    },
    {
     "data": {
      "text/html": [
       "<div>\n",
       "<style scoped>\n",
       "    .dataframe tbody tr th:only-of-type {\n",
       "        vertical-align: middle;\n",
       "    }\n",
       "\n",
       "    .dataframe tbody tr th {\n",
       "        vertical-align: top;\n",
       "    }\n",
       "\n",
       "    .dataframe thead th {\n",
       "        text-align: right;\n",
       "    }\n",
       "</style>\n",
       "<table border=\"1\" class=\"dataframe\">\n",
       "  <thead>\n",
       "    <tr style=\"text-align: right;\">\n",
       "      <th></th>\n",
       "      <th>ParentID</th>\n",
       "      <th>ID</th>\n",
       "      <th>WellID</th>\n",
       "      <th>RowID</th>\n",
       "      <th>ColumnID</th>\n",
       "      <th>Index</th>\n",
       "      <th>Area</th>\n",
       "      <th>NucMeanDapi</th>\n",
       "      <th>NucMeanGFP</th>\n",
       "      <th>RingMeanGFP</th>\n",
       "      <th>RingArea</th>\n",
       "      <th>Ratio</th>\n",
       "    </tr>\n",
       "  </thead>\n",
       "  <tbody>\n",
       "    <tr>\n",
       "      <th>1</th>\n",
       "      <td>294.0</td>\n",
       "      <td>295.0</td>\n",
       "      <td>A1</td>\n",
       "      <td>1.0</td>\n",
       "      <td>1.0</td>\n",
       "      <td>2.0</td>\n",
       "      <td>1.70</td>\n",
       "      <td>107.382353</td>\n",
       "      <td>6.882353</td>\n",
       "      <td>13.844444</td>\n",
       "      <td>0.90</td>\n",
       "      <td>0.497120</td>\n",
       "    </tr>\n",
       "    <tr>\n",
       "      <th>2</th>\n",
       "      <td>296.0</td>\n",
       "      <td>297.0</td>\n",
       "      <td>A1</td>\n",
       "      <td>1.0</td>\n",
       "      <td>1.0</td>\n",
       "      <td>3.0</td>\n",
       "      <td>2.85</td>\n",
       "      <td>147.196491</td>\n",
       "      <td>0.617544</td>\n",
       "      <td>2.534247</td>\n",
       "      <td>1.46</td>\n",
       "      <td>0.243679</td>\n",
       "    </tr>\n",
       "    <tr>\n",
       "      <th>3</th>\n",
       "      <td>298.0</td>\n",
       "      <td>299.0</td>\n",
       "      <td>A1</td>\n",
       "      <td>1.0</td>\n",
       "      <td>1.0</td>\n",
       "      <td>4.0</td>\n",
       "      <td>2.64</td>\n",
       "      <td>133.337121</td>\n",
       "      <td>88.053030</td>\n",
       "      <td>141.167832</td>\n",
       "      <td>1.43</td>\n",
       "      <td>0.623747</td>\n",
       "    </tr>\n",
       "    <tr>\n",
       "      <th>4</th>\n",
       "      <td>300.0</td>\n",
       "      <td>301.0</td>\n",
       "      <td>A1</td>\n",
       "      <td>1.0</td>\n",
       "      <td>1.0</td>\n",
       "      <td>12.0</td>\n",
       "      <td>1.84</td>\n",
       "      <td>79.288043</td>\n",
       "      <td>0.000000</td>\n",
       "      <td>0.029630</td>\n",
       "      <td>1.35</td>\n",
       "      <td>0.000000</td>\n",
       "    </tr>\n",
       "    <tr>\n",
       "      <th>5</th>\n",
       "      <td>302.0</td>\n",
       "      <td>303.0</td>\n",
       "      <td>A1</td>\n",
       "      <td>1.0</td>\n",
       "      <td>1.0</td>\n",
       "      <td>15.0</td>\n",
       "      <td>1.31</td>\n",
       "      <td>76.000000</td>\n",
       "      <td>0.045802</td>\n",
       "      <td>0.083333</td>\n",
       "      <td>0.96</td>\n",
       "      <td>0.549618</td>\n",
       "    </tr>\n",
       "    <tr>\n",
       "      <th>6</th>\n",
       "      <td>304.0</td>\n",
       "      <td>305.0</td>\n",
       "      <td>A1</td>\n",
       "      <td>1.0</td>\n",
       "      <td>1.0</td>\n",
       "      <td>1.0</td>\n",
       "      <td>1.25</td>\n",
       "      <td>104.392000</td>\n",
       "      <td>51.488000</td>\n",
       "      <td>73.959459</td>\n",
       "      <td>0.74</td>\n",
       "      <td>0.696165</td>\n",
       "    </tr>\n",
       "  </tbody>\n",
       "</table>\n",
       "</div>"
      ],
      "text/plain": [
       "   ParentID     ID WellID  RowID  ColumnID  Index  Area  NucMeanDapi  \\\n",
       "1     294.0  295.0     A1    1.0       1.0    2.0  1.70   107.382353   \n",
       "2     296.0  297.0     A1    1.0       1.0    3.0  2.85   147.196491   \n",
       "3     298.0  299.0     A1    1.0       1.0    4.0  2.64   133.337121   \n",
       "4     300.0  301.0     A1    1.0       1.0   12.0  1.84    79.288043   \n",
       "5     302.0  303.0     A1    1.0       1.0   15.0  1.31    76.000000   \n",
       "6     304.0  305.0     A1    1.0       1.0    1.0  1.25   104.392000   \n",
       "\n",
       "   NucMeanGFP  RingMeanGFP  RingArea     Ratio  \n",
       "1    6.882353    13.844444      0.90  0.497120  \n",
       "2    0.617544     2.534247      1.46  0.243679  \n",
       "3   88.053030   141.167832      1.43  0.623747  \n",
       "4    0.000000     0.029630      1.35  0.000000  \n",
       "5    0.045802     0.083333      0.96  0.549618  \n",
       "6   51.488000    73.959459      0.74  0.696165  "
      ]
     },
     "execution_count": 6,
     "metadata": {},
     "output_type": "execute_result"
    }
   ],
   "source": [
    "# calculate the number of actual measurment parameters for single objects\n",
    "num_param = len(df_single.columns) - num_nonmp\n",
    "print('Number of Object Parameters: ', num_param)\n",
    "\n",
    "# show part of dataframe\n",
    "df_single[:6]"
   ]
  },
  {
   "cell_type": "code",
   "execution_count": 7,
   "metadata": {
    "slideshow": {
     "slide_type": "slide"
    }
   },
   "outputs": [
    {
     "name": "stdout",
     "output_type": "stream",
     "text": [
      "---------------------------------------------------\n",
      "wellID_key :  WellID\n",
      "Found keys:\n",
      "Index(['ParentID', 'ID', 'WellID', 'RowID', 'ColumnID', 'Index', 'Area',\n",
      "       'NucMeanDapi', 'NucMeanGFP', 'RingMeanGFP', 'RingArea', 'Ratio'],\n",
      "      dtype='object')\n",
      "---------------------------------------------------\n"
     ]
    },
    {
     "data": {
      "application/vnd.jupyter.widget-view+json": {
       "model_id": "e681053fdca1453390b5dc7e9678082e",
       "version_major": 2,
       "version_minor": 0
      },
      "text/plain": [
       "FloatProgress(value=1.0, description='Processing Wells', max=96.0, min=1.0)"
      ]
     },
     "metadata": {},
     "output_type": "display_data"
    },
    {
     "name": "stdout",
     "output_type": "stream",
     "text": [
      "HeatMap:  Area\n",
      "HeatMap:  NucMeanDapi\n",
      "HeatMap:  NucMeanGFP\n",
      "HeatMap:  RingMeanGFP\n",
      "HeatMap:  RingArea\n",
      "HeatMap:  Ratio\n",
      "HeatMap:  ObjectNumbers\n"
     ]
    },
    {
     "data": {
      "text/plain": [
       "dict_keys(['Area', 'NucMeanDapi', 'NucMeanGFP', 'RingMeanGFP', 'RingArea', 'Ratio', 'ObjectNumbers'])"
      ]
     },
     "execution_count": 7,
     "metadata": {},
     "output_type": "execute_result"
    }
   ],
   "source": [
    "# use statistics for a wells to be displayed inside the heatmaps.\n",
    "# currently implemented are mean, median, min, max.\n",
    "stf = 'mean'\n",
    "\n",
    "# create a dictionary containing a dataframe for every measured parameter\n",
    "# as a heatmap and a dictionary containing the values for all wells containing actual data points.\n",
    "\n",
    "heatmap_dict, well_dict = wpt.fill_heatmaps(df_single, num_param, num_nonmp, Nr, Nc,\n",
    "                                            statfunc=stf,\n",
    "                                            showbar=True,\n",
    "                                            verbose=False,\n",
    "                                            wellID_key='WellID',\n",
    "                                            rowID_key='RowID',\n",
    "                                            colID_key='ColumnID')\n",
    "\n",
    "# show all keys\n",
    "heatmap_dict.keys()"
   ]
  },
  {
   "cell_type": "code",
   "execution_count": 8,
   "metadata": {
    "slideshow": {
     "slide_type": "slide"
    }
   },
   "outputs": [
    {
     "name": "stdout",
     "output_type": "stream",
     "text": [
      "Heatmap image saved as:  Translocation_Region_Primary_Object_HM_Ratio.png\n"
     ]
    },
    {
     "data": {
      "image/png": "[encoded data removed]",
      "text/plain": [
       "<Figure size 720x576 with 2 Axes>"
      ]
     },
     "metadata": {
      "needs_background": "light"
     },
     "output_type": "display_data"
    }
   ],
   "source": [
    "# define parameter to display a single heatmap\n",
    "parameter2display = 'Ratio'\n",
    "colormap ='YlGnBu'\n",
    "\n",
    "# get the actual heatmap array to display it as an image from the dictionary\n",
    "hm = heatmap_dict[parameter2display]\n",
    "\n",
    "# show the heatmap for a single parameter\n",
    "savename_single = wpt.showheatmap(hm, parameter2display,\n",
    "                                  fontsize_title=16,\n",
    "                                  fontsize_label=16,\n",
    "                                  colormap=colormap,\n",
    "                                  linecolor='black',\n",
    "                                  linewidth=3.0,\n",
    "                                  save=True,\n",
    "                                  filename=filename_single,\n",
    "                                  dpi=300)"
   ]
  },
  {
   "cell_type": "code",
   "execution_count": 9,
   "metadata": {
    "slideshow": {
     "slide_type": "slide"
    }
   },
   "outputs": [
    {
     "name": "stdout",
     "output_type": "stream",
     "text": [
      "Heatmap image saved as:  Translocation_Region_Primary_Object_HM_all.png\n"
     ]
    },
    {
     "data": {
      "image/png": "[encoded data removed]",
      "text/plain": [
       "<Figure size 864x720 with 14 Axes>"
      ]
     },
     "metadata": {
      "needs_background": "light"
     },
     "output_type": "display_data"
    }
   ],
   "source": [
    "# define parameters to display the heatmap\n",
    "colormap ='YlGnBu'\n",
    "\n",
    "plotgrid, deletelastplot = wpt.determine_plotgrid(num_param + 1, columns=2)\n",
    "\n",
    "# show all heatmaps\n",
    "savename_all = wpt.showheatmap_all(heatmap_dict, plotgrid,\n",
    "                                   fontsize_title=10,\n",
    "                                   fontsize_label=8,\n",
    "                                   colormap=colormap,\n",
    "                                   linecolor='black',\n",
    "                                   linewidth=1.0,\n",
    "                                   save=True,\n",
    "                                   filename=filename_single,\n",
    "                                   deletelast=deletelastplot)"
   ]
  },
  {
   "cell_type": "code",
   "execution_count": 10,
   "metadata": {
    "slideshow": {
     "slide_type": "slide"
    }
   },
   "outputs": [
    {
     "name": "stdout",
     "output_type": "stream",
     "text": [
      "dict_keys(['Area', 'NucMeanDapi', 'NucMeanGFP', 'RingMeanGFP', 'RingArea', 'Ratio', 'ObjectNumbers'])\n"
     ]
    }
   ],
   "source": [
    "# show all keys = measure parameters for that dictionary\n",
    "print(heatmap_dict.keys())\n",
    "\n",
    "# show example entry of the dictionary for a parameter\n",
    "well_df = heatmap_dict[parameter2display]\n",
    "rowlabel, collabel = wpt.extract_labels(Nr, Nc)"
   ]
  },
  {
   "cell_type": "code",
   "execution_count": 11,
   "metadata": {
    "slideshow": {
     "slide_type": "slide"
    }
   },
   "outputs": [
    {
     "data": {
      "text/plain": [
       "WellID                F7\n",
       "RowID                  6\n",
       "ColumnID               7\n",
       "Area             1.78947\n",
       "NucMeanDapi      69.3599\n",
       "NucMeanGFP       79.6612\n",
       "RingMeanGFP      32.7082\n",
       "RingArea         1.19651\n",
       "Ratio            5.79969\n",
       "ObjectNumbers        169\n",
       "Name: 52, dtype: object"
      ]
     },
     "execution_count": 11,
     "metadata": {},
     "output_type": "execute_result"
    }
   ],
   "source": [
    "# example for entry for well ...\n",
    "well_dict['F7']"
   ]
  },
  {
   "cell_type": "code",
   "execution_count": null,
   "metadata": {},
   "outputs": [],
   "source": []
  }
 ],
 "metadata": {
  "anaconda-cloud": {},
  "celltoolbar": "Slideshow",
  "kernelspec": {
   "display_name": "Python 3",
   "language": "python",
   "name": "python3"
  },
  "language_info": {
   "codemirror_mode": {
    "name": "ipython",
    "version": 3
   },
   "file_extension": ".py",
   "mimetype": "text/x-python",
   "name": "python",
   "nbconvert_exporter": "python",
   "pygments_lexer": "ipython3",
   "version": "3.7.3"
  },
  "widgets": {
   "state": {
    "562ca47cb51747baa635d7337aa0e0a1": {
     "views": [
      {
       "cell_index": 3
      }
     ]
    }
   },
   "version": "1.2.0"
  }
 },
 "nbformat": 4,
 "nbformat_minor": 2
}
